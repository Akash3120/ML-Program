{
  "nbformat": 4,
  "nbformat_minor": 0,
  "metadata": {
    "colab": {
      "provenance": []
    },
    "kernelspec": {
      "name": "python3",
      "display_name": "Python 3"
    },
    "language_info": {
      "name": "python"
    }
  },
  "cells": [
    {
      "cell_type": "code",
      "source": [
        "import pandas as pd\n",
        "msg = pd.read_csv('/Prog6.csv', names=['message', 'label'])\n",
        "print(\"Total Instances of Dataset: \", msg.shape[0])\n",
        "msg['labelnum'] = msg.label.map({'pos': 1, 'neg': 0})\n"
      ],
      "metadata": {
        "colab": {
          "base_uri": "https://localhost:8080/"
        },
        "id": "c_ZTn_uQUeTe",
        "outputId": "2b675dce-0ca7-478e-b4cc-fb4f45767754"
      },
      "execution_count": null,
      "outputs": [
        {
          "output_type": "stream",
          "name": "stdout",
          "text": [
            "Total Instances of Dataset:  18\n"
          ]
        }
      ]
    },
    {
      "cell_type": "code",
      "source": [
        "X = msg.message\n",
        "y = msg.labelnum\n"
      ],
      "metadata": {
        "id": "gMG_CQBSVobW"
      },
      "execution_count": null,
      "outputs": []
    },
    {
      "cell_type": "code",
      "source": [
        "from sklearn.model_selection import train_test_split"
      ],
      "metadata": {
        "id": "gPFF17BtXre1"
      },
      "execution_count": null,
      "outputs": []
    },
    {
      "cell_type": "code",
      "source": [
        "Xtrain, Xtest, ytrain, ytest = train_test_split(X, y)\n",
        "from sklearn.feature_extraction.text import CountVectorizer\n",
        "count_v = CountVectorizer()\n",
        "Xtrain_dm = count_v.fit_transform(Xtrain)\n",
        "Xtest_dm = count_v.transform(Xtest)\n",
        "df = pd.DataFrame(Xtrain_dm.toarray(),columns=count_v.get_feature_names_out()) # get_feature_names()\n",
        "print(df[0:5])\n"
      ],
      "metadata": {
        "colab": {
          "base_uri": "https://localhost:8080/"
        },
        "id": "L2o8GDp4YFgB",
        "outputId": "3184c6d2-3247-44d3-993d-3b8ba4616bc9"
      },
      "execution_count": null,
      "outputs": [
        {
          "output_type": "stream",
          "name": "stdout",
          "text": [
            "   about  am  amazing  an  and  awesome  beers  best  boss  can  ...  today  \\\n",
            "0      0   0        1   1    0        0      0     0     0    0  ...      0   \n",
            "1      0   1        0   0    1        0      0     0     0    0  ...      0   \n",
            "2      0   0        0   0    0        0      0     1     0    0  ...      0   \n",
            "3      0   0        0   1    0        1      0     0     0    0  ...      0   \n",
            "4      0   0        0   0    0        0      0     0     0    0  ...      0   \n",
            "\n",
            "   tomorrow  very  view  we  went  what  will  with  work  \n",
            "0         0     0     0   0     0     0     0     0     0  \n",
            "1         0     0     0   0     0     0     0     0     0  \n",
            "2         0     0     0   0     0     0     0     0     1  \n",
            "3         0     0     0   0     0     0     0     0     0  \n",
            "4         0     0     0   0     0     0     0     0     0  \n",
            "\n",
            "[5 rows x 41 columns]\n"
          ]
        }
      ]
    },
    {
      "cell_type": "code",
      "source": [
        "from sklearn.naive_bayes import MultinomialNB\n",
        "clf = MultinomialNB()\n",
        "clf.fit(Xtrain_dm, ytrain)\n",
        "pred = clf.predict(Xtest_dm)\n",
        "\n",
        "for doc, p in zip(Xtrain, pred):\n",
        "\tp = 'pos' if p == 1 else 'neg'\n",
        "\tprint(\"%s -> %s\" % (doc, p))\n",
        "\n",
        "from sklearn.metrics import accuracy_score, confusion_matrix, precision_score, recall_score\n",
        "print('Accuracy Metrics: \\n')\n",
        "print('Accuracy: ', accuracy_score(ytest, pred))\n",
        "print('Recall: ', recall_score(ytest, pred))\n",
        "print('Precision: ', precision_score(ytest, pred))\n",
        "print('Confusion Matrix: \\n', confusion_matrix(ytest, pred))\n"
      ],
      "metadata": {
        "colab": {
          "base_uri": "https://localhost:8080/"
        },
        "id": "w1gpCnZ-YNSI",
        "outputId": "10f4d0cc-77c4-424c-cb50-4640c7558704"
      },
      "execution_count": null,
      "outputs": [
        {
          "output_type": "stream",
          "name": "stdout",
          "text": [
            "This is an amazing place -> pos\n",
            "I am sick and tired of this place -> neg\n",
            "This is my best work -> pos\n",
            "This is an awesome place -> pos\n",
            "I love this sandwich -> neg\n",
            "Accuracy Metrics: \n",
            "\n",
            "Accuracy:  0.6\n",
            "Recall:  1.0\n",
            "Precision:  0.3333333333333333\n",
            "Confusion Matrix: \n",
            " [[2 2]\n",
            " [0 1]]\n"
          ]
        }
      ]
    }
  ]
}